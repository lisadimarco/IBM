# My Data Science Notebook

This notebook will explore the basic concepts of data science.

Some of the popular languages that Data Scientists use are:
1. Python
2. R
3. SQL
4. Scala
5. Java
6. C++
7. Julia
8. JavaScript
9. PHP
10. Go

Some of the commonly used libraries used by Data Scientists include:
1. Pandas
2. Numpy
3. Matplotlib
4. Seaborn
5. Scikit-learn
6. Keras
7. TensorFlow
8. PyTorch
9. Apache Spark
10. Vegas

## Strumenti di Data Science
| Strumento           | Descrizione                                             |
|---------------------|---------------------------------------------------------|
| Jupyter Notebook    | Ambiente interattivo per il calcolo e la visualizzazione dei dati. |
| RStudio             | IDE per il linguaggio di programmazione R, utilizzato per statistica e analisi dei dati. |
| Apache Spark        | Framework open-source per l'elaborazione di big data distribuiti. |
| Tableau             | Strumento commerciale per la visualizzazione interattiva dei dati. |
| Pandas              | Libreria Python per la manipolazione e analisi dei dati strutturati. |
| Matplotlib          | Libreria Python per la creazione di grafici statici, animati e interattivi. |
| Seaborn             | Libreria Python basata su Matplotlib per la visualizzazione statistica dei dati. |
| TensorFlow          | Framework open-source di Google per il machine learning e deep learning. |
| Keras               | API di alto livello per la costruzione di modelli di deep learning, basata su TensorFlow. |
| PyTorch             | Framework open-source per il deep learning, utilizzato principalmente per la ricerca. |
| Scikit-learn        | Libreria Python per l'analisi dei dati e il machine learning. |
| SQL                 | Linguaggio di programmazione per la gestione e la query di database relazionali. |
| Microsoft Excel     | Software per la gestione di fogli di calcolo, ampiamente utilizzato per analisi di dati. |
| Google BigQuery     | Servizio gestito di data warehousing per analisi di grandi quantità di dati. |
| Power BI            | Strumento di business intelligence di Microsoft per la visualizzazione e analisi dei dati. |


### Arithmetic operators
Arithmetic operators are used for mathematical calculations such as addition, subtraction, multiplication, and division.

# Example of arithmetic operations
result = (5 * 3) + 2
result

# Convert minutes to hours
minutes = 200
hours = minutes / 60
hours

**Objectives**
- Learn about Data Science tools
- Practice arithmetic expressions
- Create a Jupyter notebook

## Author
Lisa Di Marco
